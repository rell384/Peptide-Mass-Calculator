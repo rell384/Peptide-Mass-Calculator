{
  "nbformat": 4,
  "nbformat_minor": 0,
  "metadata": {
    "colab": {
      "provenance": [],
      "authorship_tag": "ABX9TyN+u+mVMhStr88S5KuEZAzU",
      "include_colab_link": true
    },
    "kernelspec": {
      "name": "python3",
      "display_name": "Python 3"
    },
    "language_info": {
      "name": "python"
    }
  },
  "cells": [
    {
      "cell_type": "markdown",
      "metadata": {
        "id": "view-in-github",
        "colab_type": "text"
      },
      "source": [
        "<a href=\"https://colab.research.google.com/github/rell384/reham_mostafa/blob/main/Untitled0.ipynb\" target=\"_parent\"><img src=\"https://colab.research.google.com/assets/colab-badge.svg\" alt=\"Open In Colab\"/></a>"
      ]
    },
    {
      "cell_type": "markdown",
      "source": [],
      "metadata": {
        "id": "CyH96RNKlGNm"
      }
    },
    {
      "cell_type": "code",
      "source": [
        "! pip install biopython\n",
        "! pip install pyopenms"
      ],
      "metadata": {
        "colab": {
          "base_uri": "https://localhost:8080/"
        },
        "id": "XUc07WyQlW48",
        "outputId": "62e90b04-7e57-466b-dfaf-f66f892449b6"
      },
      "execution_count": null,
      "outputs": [
        {
          "output_type": "stream",
          "name": "stdout",
          "text": [
            "Looking in indexes: https://pypi.org/simple, https://us-python.pkg.dev/colab-wheels/public/simple/\n",
            "Collecting biopython\n",
            "  Downloading biopython-1.79-cp37-cp37m-manylinux_2_17_x86_64.manylinux2014_x86_64.whl (2.6 MB)\n",
            "\u001b[K     |████████████████████████████████| 2.6 MB 9.6 MB/s \n",
            "\u001b[?25hRequirement already satisfied: numpy in /usr/local/lib/python3.7/dist-packages (from biopython) (1.21.6)\n",
            "Installing collected packages: biopython\n",
            "Successfully installed biopython-1.79\n",
            "Looking in indexes: https://pypi.org/simple, https://us-python.pkg.dev/colab-wheels/public/simple/\n",
            "Collecting pyopenms\n",
            "  Downloading pyopenms-2.7.0-cp37-cp37m-manylinux2014_x86_64.whl (49.0 MB)\n",
            "\u001b[K     |████████████████████████████████| 49.0 MB 2.1 MB/s \n",
            "\u001b[?25hRequirement already satisfied: numpy in /usr/local/lib/python3.7/dist-packages (from pyopenms) (1.21.6)\n",
            "Installing collected packages: pyopenms\n",
            "Successfully installed pyopenms-2.7.0\n"
          ]
        }
      ]
    },
    {
      "cell_type": "code",
      "source": [
        "from pyopenms import *\n",
        "sq=\"VAKA\"\n",
        "mfull2=0\n",
        "for i in range(0,len(sq)):\n",
        "    q=sq[i]\n",
        "    e = AASequence.fromString(q)\n",
        "    mfull2=mfull2+e.getMonoWeight()\n",
        "    print(mfull2)\n",
        "seq = AASequence.fromString(sq)\n",
        "print(\"Sequence:\", seq)\n",
        "\n",
        "mfull = seq.getMonoWeight()\n",
        "\n",
        "print(\"Monoisotopic mass of peptide [M] is\", mfull)"
      ],
      "metadata": {
        "colab": {
          "base_uri": "https://localhost:8080/"
        },
        "id": "pItIaYHJcSXu",
        "outputId": "0fb63cfd-c027-4bac-b5e1-300fee607410"
      },
      "execution_count": 6,
      "outputs": [
        {
          "output_type": "stream",
          "name": "stdout",
          "text": [
            "117.0789793509\n",
            "206.1266585742\n",
            "352.23218702080004\n",
            "441.27986624410005\n",
            "Sequence: VAKA\n",
            "Monoisotopic mass of peptide [M] is 387.2481710527\n"
          ]
        }
      ]
    },
    {
      "cell_type": "code",
      "source": [
        "! pip install BIO"
      ],
      "metadata": {
        "colab": {
          "base_uri": "https://localhost:8080/"
        },
        "id": "-qDTjm35odRB",
        "outputId": "6546758e-5195-47c0-d421-48f3ba1d18ff"
      },
      "execution_count": null,
      "outputs": [
        {
          "output_type": "stream",
          "name": "stdout",
          "text": [
            "Looking in indexes: https://pypi.org/simple, https://us-python.pkg.dev/colab-wheels/public/simple/\n",
            "Collecting BIO\n",
            "  Downloading bio-1.4.0-py3-none-any.whl (270 kB)\n",
            "\u001b[K     |████████████████████████████████| 270 kB 4.2 MB/s \n",
            "\u001b[?25hRequirement already satisfied: biopython>=1.79 in /usr/local/lib/python3.7/dist-packages (from BIO) (1.79)\n",
            "Requirement already satisfied: tqdm in /usr/local/lib/python3.7/dist-packages (from BIO) (4.64.1)\n",
            "Collecting mygene\n",
            "  Downloading mygene-3.2.2-py2.py3-none-any.whl (5.4 kB)\n",
            "Requirement already satisfied: requests in /usr/local/lib/python3.7/dist-packages (from BIO) (2.23.0)\n",
            "Requirement already satisfied: numpy in /usr/local/lib/python3.7/dist-packages (from biopython>=1.79->BIO) (1.21.6)\n",
            "Collecting biothings-client>=0.2.6\n",
            "  Downloading biothings_client-0.2.6-py2.py3-none-any.whl (37 kB)\n",
            "Requirement already satisfied: chardet<4,>=3.0.2 in /usr/local/lib/python3.7/dist-packages (from requests->BIO) (3.0.4)\n",
            "Requirement already satisfied: idna<3,>=2.5 in /usr/local/lib/python3.7/dist-packages (from requests->BIO) (2.10)\n",
            "Requirement already satisfied: certifi>=2017.4.17 in /usr/local/lib/python3.7/dist-packages (from requests->BIO) (2022.9.24)\n",
            "Requirement already satisfied: urllib3!=1.25.0,!=1.25.1,<1.26,>=1.21.1 in /usr/local/lib/python3.7/dist-packages (from requests->BIO) (1.24.3)\n",
            "Installing collected packages: biothings-client, mygene, BIO\n",
            "Successfully installed BIO-1.4.0 biothings-client-0.2.6 mygene-3.2.2\n"
          ]
        }
      ]
    },
    {
      "cell_type": "code",
      "source": [
        "\n",
        "seq = AASequence.fromString(\"VAKA\")\n",
        "\n",
        "print (seq.getMonoWeight())\n",
        "print(\"The peptide\", str(seq), \"consists of the following amino acids:\")\n",
        "for aa in seq:\n",
        "  print(aa.getName(), \":\", aa.getMonoWeight())\n",
        "   \n"
      ],
      "metadata": {
        "colab": {
          "base_uri": "https://localhost:8080/"
        },
        "id": "U78YOGXQHvaR",
        "outputId": "30045c52-8574-4830-c28e-73238fb7bb12"
      },
      "execution_count": null,
      "outputs": [
        {
          "output_type": "stream",
          "name": "stdout",
          "text": [
            "387.2481710527\n",
            "The peptide VAKA consists of the following amino acids:\n",
            "Valine : 117.0789793509\n",
            "Alanine : 89.0476792233\n",
            "Lysine : 146.1055284466\n",
            "Alanine : 89.0476792233\n"
          ]
        }
      ]
    },
    {
      "cell_type": "code",
      "source": [
        "\n",
        "seq = AASequence.fromString(\"VAKA\")\n",
        "x0=seq.getMonoWeight()\n",
        "\n",
        "\n",
        "\n",
        "seq1 =AASequence.fromString(\"V\")\n",
        "x1=seq1.getMonoWeight()\n",
        "seq2=AASequence.fromString(\"A\")\n",
        "x2=seq2.getMonoWeight()\n",
        "seq3=AASequence.fromString(\"K\")\n",
        "x3=seq3.getMonoWeight()\n",
        "seq4=AASequence.fromString(\"A\")\n",
        "x4=seq4.getMonoWeight()\n",
        "print(x1)\n",
        "\n",
        "print(x2)\n",
        "\n",
        "print(x3)\n",
        "\n",
        "print(x4)\n",
        "z=x1+x2+x3+x4\n",
        "print (\"the sum of masses for every amino acid\")\n",
        "print(z)\n",
        "print(\"the mass of sequence\")\n",
        "print(x0)"
      ],
      "metadata": {
        "colab": {
          "base_uri": "https://localhost:8080/"
        },
        "id": "ekoTf2y_IowJ",
        "outputId": "4bb0ccb3-c2d2-43da-c580-42cd648e5563"
      },
      "execution_count": null,
      "outputs": [
        {
          "output_type": "stream",
          "name": "stdout",
          "text": [
            "117.0789793509\n",
            "89.0476792233\n",
            "146.10552844660003\n",
            "89.0476792233\n",
            "the sum of masses for every amino acid\n",
            "441.27986624410005\n",
            "the mass of sequence\n",
            "387.2481710527\n"
          ]
        }
      ]
    }
  ]
}